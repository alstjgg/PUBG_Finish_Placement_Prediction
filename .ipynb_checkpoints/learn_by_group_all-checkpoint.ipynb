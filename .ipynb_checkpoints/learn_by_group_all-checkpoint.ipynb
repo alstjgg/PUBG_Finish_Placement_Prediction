{
 "cells": [
  {
   "cell_type": "code",
   "execution_count": 1,
   "metadata": {},
   "outputs": [],
   "source": [
    "import numpy as np\n",
    "import pandas as pd\n",
    "import matplotlib.pyplot as plt\n",
    "from sklearn.utils import shuffle"
   ]
  },
  {
   "cell_type": "code",
   "execution_count": 2,
   "metadata": {},
   "outputs": [],
   "source": [
    "# 쓸데없는 warning 끄기\n",
    "pd.options.mode.chained_assignment = None\n",
    "import warnings\n",
    "warnings.simplefilter(action='ignore', category=FutureWarning)"
   ]
  },
  {
   "cell_type": "code",
   "execution_count": 3,
   "metadata": {},
   "outputs": [],
   "source": [
    "root = '/Users/13579/Desktop/Git/TIL/Data Science/data/pubg/'\n",
    "wrangled = pd.read_csv(root + 'train.csv')"
   ]
  },
  {
   "cell_type": "markdown",
   "metadata": {},
   "source": [
    "### Drop row with NaN value for winPlacePerc"
   ]
  },
  {
   "cell_type": "code",
   "execution_count": 4,
   "metadata": {},
   "outputs": [],
   "source": [
    "wrangled.drop(2744604, inplace=True)"
   ]
  },
  {
   "cell_type": "markdown",
   "metadata": {},
   "source": [
    "### Anomaly"
   ]
  },
  {
   "cell_type": "code",
   "execution_count": 5,
   "metadata": {},
   "outputs": [],
   "source": [
    "# 움직이지 않고 킬 한 경우\n",
    "wrangled['killsWithoutMoving'] = (wrangled['kills'] > 0) & (wrangled['walkDistance'] == 0)\n",
    "wrangled = wrangled.drop(wrangled[wrangled['killsWithoutMoving']==True].index)\n",
    "wrangled = wrangled.drop(columns=['killsWithoutMoving'])"
   ]
  },
  {
   "cell_type": "code",
   "execution_count": 6,
   "metadata": {},
   "outputs": [],
   "source": [
    "# Drop columns with 'flare' or'crash' or 'normal' matchtype\n",
    "wrangled = wrangled[wrangled.matchType!='flarefpp']\n",
    "wrangled = wrangled[wrangled.matchType!='flaretpp']\n",
    "wrangled = wrangled[wrangled.matchType!='crashfpp']\n",
    "wrangled = wrangled[wrangled.matchType!='crashtpp']\n",
    "wrangled = wrangled[wrangled.matchType!='normal-squad-fpp']\n",
    "wrangled = wrangled[wrangled.matchType!='normal-duo-fpp']\n",
    "wrangled = wrangled[wrangled.matchType!='normal-solo-fpp']\n",
    "wrangled = wrangled[wrangled.matchType!='normal-squad']\n",
    "wrangled = wrangled[wrangled.matchType!='normal-duo']\n",
    "wrangled = wrangled[wrangled.matchType!='normal-solo']"
   ]
  },
  {
   "cell_type": "markdown",
   "metadata": {},
   "source": [
    "### Group"
   ]
  },
  {
   "cell_type": "code",
   "execution_count": 7,
   "metadata": {},
   "outputs": [],
   "source": [
    "# 팀원 수\n",
    "wrangled = wrangled.merge(wrangled.groupby(['groupId']).size().to_frame('players_in_team'), how='left', on=['groupId'])"
   ]
  },
  {
   "cell_type": "code",
   "execution_count": 8,
   "metadata": {},
   "outputs": [],
   "source": [
    "# 팀 전체 킬 수\n",
    "wrangled = wrangled.merge(wrangled.groupby(['groupId'])['kills'].sum().to_frame('total_kills'), how='left', on=['groupId'])\n",
    "# 팀 최고 킬 수\n",
    "wrangled = wrangled.merge(wrangled.groupby(['groupId'])['kills'].max().to_frame('max_kills'), how='left', on=['groupId'])"
   ]
  },
  {
   "cell_type": "code",
   "execution_count": 9,
   "metadata": {},
   "outputs": [],
   "source": [
    "# 팀 전체 기절 수\n",
    "wrangled = wrangled.merge(wrangled.groupby(['groupId'])['DBNOs'].sum().to_frame('total_DBNOs'), how='left', on=['groupId'])\n",
    "# 팀 최고 기절 수\n",
    "wrangled = wrangled.merge(wrangled.groupby(['groupId'])['DBNOs'].max().to_frame('max_DBNOs'), how='left', on=['groupId'])"
   ]
  },
  {
   "cell_type": "code",
   "execution_count": 10,
   "metadata": {},
   "outputs": [],
   "source": [
    "# 팀 전체 데미지량\n",
    "wrangled = wrangled.merge(wrangled.groupby(['groupId'])['damageDealt'].sum().to_frame('total_damageDealt'), how='left', on=['groupId'])\n",
    "# 팀 최고 데미지량\n",
    "wrangled = wrangled.merge(wrangled.groupby(['groupId'])['damageDealt'].max().to_frame('max_damageDealt'), how='left', on=['groupId'])"
   ]
  },
  {
   "cell_type": "code",
   "execution_count": 11,
   "metadata": {},
   "outputs": [],
   "source": [
    "# 팀 전체 어시스트 수\n",
    "wrangled = wrangled.merge(wrangled.groupby(['groupId'])['assists'].sum().to_frame('total_assists'), how='left', on=['groupId'])\n",
    "# 팀 평균 어시스트 수\n",
    "wrangled = wrangled.merge(wrangled.groupby(['groupId'])['assists'].mean().to_frame('avg_assists'), how='left', on=['groupId'])\n",
    "# 팀 최고 어시스트 수\n",
    "wrangled = wrangled.merge(wrangled.groupby(['groupId'])['assists'].max().to_frame('max_assists'), how='left', on=['groupId'])"
   ]
  },
  {
   "cell_type": "code",
   "execution_count": 12,
   "metadata": {},
   "outputs": [],
   "source": [
    "# 팀 최고 헤드샷\n",
    "wrangled = wrangled.merge(wrangled.groupby(['groupId'])['headshotKills'].max().to_frame('max_headshotKills'), how='left', on=['groupId'])"
   ]
  },
  {
   "cell_type": "code",
   "execution_count": 13,
   "metadata": {},
   "outputs": [],
   "source": [
    "# 팀 최고 kill place\n",
    "wrangled = wrangled.merge(wrangled.groupby(['groupId'])['killPlace'].max().to_frame('max_killPlace'), how='left', on=['groupId'])"
   ]
  },
  {
   "cell_type": "code",
   "execution_count": 14,
   "metadata": {},
   "outputs": [],
   "source": [
    "# 팀 최고 heals & boosts 수\n",
    "wrangled = wrangled.merge(wrangled.groupby(['groupId'])['heals'].max().to_frame('max_heals'), how='left', on=['groupId'])\n",
    "wrangled = wrangled.merge(wrangled.groupby(['groupId'])['boosts'].max().to_frame('max_boosts'), how='left', on=['groupId'])"
   ]
  },
  {
   "cell_type": "code",
   "execution_count": 15,
   "metadata": {},
   "outputs": [],
   "source": [
    "# 팀 최고 이동거리\n",
    "wrangled = wrangled.merge(wrangled.groupby(['groupId'])['walkDistance'].max().to_frame('max_walk'), how='left', on=['groupId'])\n",
    "wrangled = wrangled.merge(wrangled.groupby(['groupId'])['rideDistance'].max().to_frame('max_ride'), how='left', on=['groupId'])\n",
    "wrangled = wrangled.merge(wrangled.groupby(['groupId'])['swimDistance'].max().to_frame('max_swim'), how='left', on=['groupId'])"
   ]
  },
  {
   "cell_type": "code",
   "execution_count": 16,
   "metadata": {},
   "outputs": [],
   "source": [
    "# 팀 최고 무기 수\n",
    "wrangled = wrangled.merge(wrangled.groupby(['groupId'])['weaponsAcquired'].max().to_frame('max_weapons'), how='left', on=['groupId'])"
   ]
  },
  {
   "cell_type": "code",
   "execution_count": 17,
   "metadata": {},
   "outputs": [],
   "source": [
    "# 팀 평균 소생 & 팀킬 수\n",
    "wrangled = wrangled.merge(wrangled.groupby(['groupId'])['revives'].mean().to_frame('avg_revives'), how='left', on=['groupId'])\n",
    "wrangled = wrangled.merge(wrangled.groupby(['groupId'])['teamKills'].mean().to_frame('avg_teamKills'), how='left', on=['groupId'])"
   ]
  },
  {
   "cell_type": "markdown",
   "metadata": {},
   "source": [
    "### Create features"
   ]
  },
  {
   "cell_type": "code",
   "execution_count": 18,
   "metadata": {},
   "outputs": [],
   "source": [
    "# duo나 squad인데 인원수가 적은 경우(솔듀오 솔쿼드 듀쿼드 삼쿼드)\n",
    "wrangled['less'] = 0\n",
    "wrangled.loc[((wrangled['matchType'] == 'duo') | (wrangled['matchType'] == 'duo-fpp')) & (wrangled['players_in_team'] < 2), 'less'] = 1\n",
    "wrangled.loc[((wrangled['matchType'] == 'squad') | (wrangled['matchType'] == 'squad-fpp')) & (wrangled['players_in_team'] < 4), 'less'] = 1"
   ]
  },
  {
   "cell_type": "code",
   "execution_count": 19,
   "metadata": {},
   "outputs": [],
   "source": [
    "# matchType one hot encoding\n",
    "wrangled = pd.get_dummies(wrangled, columns=['matchType'])\n",
    "matchType_encoding = wrangled.filter(regex='matchType')\n",
    "wrangled = pd.concat([wrangled, matchType_encoding], axis=1)"
   ]
  },
  {
   "cell_type": "code",
   "execution_count": 20,
   "metadata": {},
   "outputs": [],
   "source": [
    "# totalDistance\n",
    "wrangled['totalDistance'] = wrangled['walkDistance'] + wrangled['swimDistance'] + wrangled['rideDistance']\n",
    "wrangled = wrangled.merge(wrangled.groupby(['groupId'])['totalDistance'].max().to_frame('max_distance'), how='left', on=['groupId'])"
   ]
  },
  {
   "cell_type": "code",
   "execution_count": 21,
   "metadata": {},
   "outputs": [],
   "source": [
    "wrangled['headshotKills_over_kills'] = wrangled['max_headshotKills'] / wrangled['max_kills']\n",
    "wrangled['headshotKills_over_kills'].fillna(0, inplace=True) # replace NaN value\n",
    "wrangled['headshotKills_over_kills'].replace(np.inf, 0, inplace=True) # replace infinite value"
   ]
  },
  {
   "cell_type": "code",
   "execution_count": 22,
   "metadata": {},
   "outputs": [],
   "source": [
    "wrangled['killPlace_over_maxPlace'] = wrangled['max_killPlace'] / wrangled['maxPlace']\n",
    "wrangled['killPlace_over_maxPlace'].fillna(0, inplace=True)\n",
    "wrangled['killPlace_over_maxPlace'].replace(np.inf, 0, inplace=True)"
   ]
  },
  {
   "cell_type": "code",
   "execution_count": 23,
   "metadata": {},
   "outputs": [],
   "source": [
    "wrangled['totalDistance_over_heals'] = wrangled['max_distance'] / wrangled['max_heals']\n",
    "wrangled['totalDistance_over_heals'].fillna(0, inplace=True)\n",
    "wrangled['totalDistance_over_heals'].replace(np.inf, 0, inplace=True)"
   ]
  },
  {
   "cell_type": "code",
   "execution_count": 24,
   "metadata": {},
   "outputs": [],
   "source": [
    "wrangled['totalDistance_over_boosts'] = wrangled['max_distance'] / wrangled['max_boosts']\n",
    "wrangled['totalDistance_over_boosts'].fillna(0, inplace=True)\n",
    "wrangled['totalDistance_over_boosts'].replace(np.inf, 0, inplace=True)"
   ]
  },
  {
   "cell_type": "code",
   "execution_count": 25,
   "metadata": {},
   "outputs": [],
   "source": [
    "wrangled['totalDistance_over_kills'] = wrangled['max_distance'] / wrangled['max_kills']\n",
    "wrangled['totalDistance_over_kills'].fillna(0, inplace=True)\n",
    "wrangled['totalDistance_over_kills'].replace(np.inf, 0, inplace=True)"
   ]
  },
  {
   "cell_type": "code",
   "execution_count": 26,
   "metadata": {},
   "outputs": [],
   "source": [
    "wrangled['totalDistance_over_damage'] = wrangled['max_distance'] / wrangled['max_damageDealt']\n",
    "wrangled['totalDistance_over_damage'].fillna(0, inplace=True)\n",
    "wrangled['totalDistance_over_damage'].replace(np.inf, 0, inplace=True)"
   ]
  },
  {
   "cell_type": "code",
   "execution_count": 27,
   "metadata": {},
   "outputs": [],
   "source": [
    "wrangled['totalDistance_over_DBNOs'] = wrangled['max_distance'] / wrangled['max_DBNOs']\n",
    "wrangled['totalDistance_over_DBNOs'].fillna(0, inplace=True)\n",
    "wrangled['totalDistance_over_DBNOs'].replace(np.inf, 0, inplace=True)"
   ]
  },
  {
   "cell_type": "code",
   "execution_count": 28,
   "metadata": {},
   "outputs": [],
   "source": [
    "wrangled['totalDistance_over_weapons'] = wrangled['max_distance'] / wrangled['max_weapons']\n",
    "wrangled['totalDistance_over_weapons'].fillna(0, inplace=True)\n",
    "wrangled['totalDistance_over_weapons'].replace(np.inf, 0, inplace=True)"
   ]
  },
  {
   "cell_type": "code",
   "execution_count": 29,
   "metadata": {},
   "outputs": [],
   "source": [
    "# teamplay\n",
    "wrangled['teamwork'] = wrangled['assists'] + wrangled['revives'] - wrangled['teamKills']"
   ]
  },
  {
   "cell_type": "markdown",
   "metadata": {},
   "source": [
    "### Drop Features"
   ]
  },
  {
   "cell_type": "code",
   "execution_count": 30,
   "metadata": {},
   "outputs": [],
   "source": [
    "# ID \n",
    "wrangled.drop(columns = ['Id'], inplace=True)\n",
    "wrangled.drop(columns = ['groupId'], inplace=True)\n",
    "wrangled.drop(columns = ['matchId'], inplace=True)"
   ]
  },
  {
   "cell_type": "code",
   "execution_count": 31,
   "metadata": {},
   "outputs": [],
   "source": [
    "# Points ... 0값이 너무 많음\n",
    "wrangled.drop(columns = ['killPoints'], inplace=True)\n",
    "wrangled.drop(columns = ['rankPoints'], inplace=True)\n",
    "wrangled.drop(columns = ['winPoints'], inplace=True)"
   ]
  },
  {
   "cell_type": "code",
   "execution_count": 32,
   "metadata": {},
   "outputs": [],
   "source": [
    "# 중복된 column 삭제, index 값 초기화\n",
    "wrangled = wrangled.loc[:,~wrangled.columns.duplicated()]\n",
    "wrangled = wrangled.reset_index()"
   ]
  },
  {
   "cell_type": "code",
   "execution_count": 33,
   "metadata": {},
   "outputs": [],
   "source": [
    "wrangled.drop(columns = ['index'], inplace=True)"
   ]
  },
  {
   "cell_type": "markdown",
   "metadata": {},
   "source": [
    "## Model"
   ]
  },
  {
   "cell_type": "code",
   "execution_count": 34,
   "metadata": {},
   "outputs": [],
   "source": [
    "import sklearn\n",
    "from sklearn import metrics"
   ]
  },
  {
   "cell_type": "code",
   "execution_count": 35,
   "metadata": {},
   "outputs": [],
   "source": [
    "# Metric used for the PUBG competition (Mean Absolute Error (MAE))\n",
    "from sklearn.metrics import mean_absolute_error\n",
    "from sklearn.linear_model import LinearRegression\n",
    "\n",
    "# Function to print the MAE (Mean Absolute Error) score\n",
    "# This is the metric used by Kaggle in this competition\n",
    "def print_score(m : LinearRegression):\n",
    "    res = ['mae train: ', mean_absolute_error(m.predict(X_train), y_train), \n",
    "           'mae val: ', mean_absolute_error(m.predict(X_valid), y_valid)]\n",
    "    if hasattr(m, 'oob_score_'): res.append(m.oob_score_)\n",
    "    print(res)"
   ]
  },
  {
   "cell_type": "code",
   "execution_count": 36,
   "metadata": {},
   "outputs": [],
   "source": [
    "import xgboost"
   ]
  },
  {
   "cell_type": "code",
   "execution_count": 37,
   "metadata": {},
   "outputs": [],
   "source": [
    "sample_size = 100000\n",
    "sample = wrangled.iloc[0:sample_size]\n",
    "original = sample.drop(columns=['winPlacePerc'])\n",
    "target = sample['winPlacePerc']"
   ]
  },
  {
   "cell_type": "code",
   "execution_count": 38,
   "metadata": {
    "scrolled": false
   },
   "outputs": [],
   "source": [
    "# Function for splitting training and validation data\n",
    "def split_vals(a, n : int): \n",
    "    return a[:n].copy(), a[n:].copy()\n",
    "\n",
    "val_perc = 0.1 # % to use for validation set\n",
    "n_valid = int(val_perc * sample_size) \n",
    "n_trn = len(original)-n_valid\n",
    "\n",
    "# Split data\n",
    "raw_train, raw_valid = split_vals(sample, n_trn)\n",
    "X_train, X_valid = split_vals(original, n_trn)\n",
    "y_train, y_valid = split_vals(target, n_trn)"
   ]
  },
  {
   "cell_type": "code",
   "execution_count": 39,
   "metadata": {},
   "outputs": [
    {
     "name": "stdout",
     "output_type": "stream",
     "text": [
      "[16:58:14] WARNING: C:/Jenkins/workspace/xgboost-win64_release_0.90/src/objective/regression_obj.cu:152: reg:linear is now deprecated in favor of reg:squarederror.\n",
      "['mae train: ', 0.036492750466779605, 'mae val: ', 0.04545690527171135]\n"
     ]
    }
   ],
   "source": [
    "model = xgboost.XGBRegressor(random_state=42, n_estimators=400, subsample = 0.8, colsample_bytree=1,max_depth=7, learning_rate=0.08)\n",
    "model.fit(X_train, y_train)\n",
    "print_score(model)"
   ]
  },
  {
   "cell_type": "markdown",
   "metadata": {},
   "source": [
    "## Feature Importance"
   ]
  },
  {
   "cell_type": "code",
   "execution_count": 40,
   "metadata": {},
   "outputs": [],
   "source": [
    "def xgb_feat_importance(m, df):\n",
    "     return pd.DataFrame({'cols':df.columns, 'imp':m.feature_importances_}).sort_values('imp', ascending=False)"
   ]
  },
  {
   "cell_type": "code",
   "execution_count": 41,
   "metadata": {},
   "outputs": [
    {
     "data": {
      "text/plain": [
       "<matplotlib.axes._subplots.AxesSubplot at 0x1733fd087b8>"
      ]
     },
     "execution_count": 41,
     "metadata": {},
     "output_type": "execute_result"
    },
    {
     "data": {
      "image/png": "[encoded data removed]",
      "text/plain": [
       "<Figure size 1008x1080 with 1 Axes>"
      ]
     },
     "metadata": {},
     "output_type": "display_data"
    }
   ],
   "source": [
    "# What are the most predictive features according to our basic random forest model\n",
    "fi = xgb_feat_importance(model, original)\n",
    "\n",
    "# Plot a feature importance graph for the 20 most important features\n",
    "fi.plot('cols', 'imp', figsize=(14,15), legend=False, kind = 'barh', title='Important features')"
   ]
  },
  {
   "cell_type": "code",
   "execution_count": null,
   "metadata": {},
   "outputs": [],
   "source": []
  }
 ],
 "metadata": {
  "kernelspec": {
   "display_name": "Python 3",
   "language": "python",
   "name": "python3"
  },
  "language_info": {
   "codemirror_mode": {
    "name": "ipython",
    "version": 3
   },
   "file_extension": ".py",
   "mimetype": "text/x-python",
   "name": "python",
   "nbconvert_exporter": "python",
   "pygments_lexer": "ipython3",
   "version": "3.6.5"
  }
 },
 "nbformat": 4,
 "nbformat_minor": 2
}

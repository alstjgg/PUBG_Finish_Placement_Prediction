{
 "cells": [
  {
   "cell_type": "markdown",
   "metadata": {},
   "source": [
    "Based on [PUBG finish placement prediction](https://www.kaggle.com/c/pubg-finish-placement-prediction/overview)\n",
    "\n",
    "# Problem definition\n",
    ">  ... given over 65,000 games' worth of anonymized player data, split into training and testing sets, ... predict final placement from final in-game stats and initial player ratings.What's the best strategy to win in PUBG? Should you sit in one spot and hide your way into victory, or do you need to be the top shot? Let's let the data do the talking!\n",
    "\n",
    "배틀그라운드는 100명의 플레이어가 빈손으로 섬에 떨어져 서로를 죽이고, 줄어드는 자기장을 피해 살아남는 배틀 로얄형 게임입니다. 플레이어들은 1등을 하기 위해서 다양한 전략을 펼칩니다. 사람이 많은 곳으로 떨어져 초반에 다른 플레이어들을 죽이거나, 반대로 사람이 없는 곳으로 가, 나중을 기약하기도 합니다. 또 자동차를 타고 소리를 내면서 이동하는 사람도 있고, 조용히 풀숲을 따라 엎드려 가는 사람도 있습니다. 이렇게 다양한 전략속에서 어떤 요소들이 게임 등수에 영향을 미치는지, 높은 등수의 플레이어들은 어떤 전략을 펼치는지, 어떻게 해야 높은 등수를 얻을 수 있는지 알아보려고 합니다."
   ]
  },
  {
   "cell_type": "markdown",
   "metadata": {},
   "source": [
    "# 0. Import Libraries"
   ]
  },
  {
   "cell_type": "code",
   "execution_count": 1,
   "metadata": {},
   "outputs": [],
   "source": [
    "# # For autoreloading modules\n",
    "# ## IPython extension to reload modules before executing user code.\n",
    "# ## autoreload reloads modules automatically before entering the execution of code typed at the IPython prompt.\n",
    "# %load_ext autoreload\n",
    "# %autoreload 2 # Reload all modules (except those excluded by %aimport) every time before executing the Python code typed.\n",
    "# # For notebook plotting\n",
    "# %matplotlib inline"
   ]
  },
  {
   "cell_type": "markdown",
   "metadata": {},
   "source": [
    "**Standard libraries**"
   ]
  },
  {
   "cell_type": "code",
   "execution_count": 2,
   "metadata": {},
   "outputs": [],
   "source": [
    "import os\n",
    "import numpy as np\n",
    "import pandas as pd"
   ]
  },
  {
   "cell_type": "markdown",
   "metadata": {},
   "source": [
    "**Visualization**"
   ]
  },
  {
   "cell_type": "code",
   "execution_count": 3,
   "metadata": {},
   "outputs": [],
   "source": [
    "import matplotlib.pyplot as plt\n",
    "import seaborn as sns\n",
    "#from pdpbox import pdp\n",
    "#from plotnine import *\n",
    "#from pandas_summary import DataFrameSummary\n",
    "from sklearn.ensemble import RandomForestRegressor\n",
    "from IPython.display import display"
   ]
  },
  {
   "cell_type": "markdown",
   "metadata": {},
   "source": [
    "**Machine Learning**"
   ]
  },
  {
   "cell_type": "code",
   "execution_count": 4,
   "metadata": {},
   "outputs": [],
   "source": [
    "import sklearn\n",
    "from sklearn import metrics\n",
    "from scipy.cluster import hierarchy as hc\n",
    "#from sklearn_pandas import DataFrameMapper\n",
    "from sklearn.preprocessing import LabelEncoder, Imputer, StandardScaler\n",
    "from pandas.api.types import is_string_dtype, is_numeric_dtype\n",
    "from sklearn.ensemble import forest\n",
    "from sklearn.tree import export_graphviz"
   ]
  },
  {
   "cell_type": "markdown",
   "metadata": {},
   "source": [
    "**Random Shuffle**"
   ]
  },
  {
   "cell_type": "code",
   "execution_count": 5,
   "metadata": {},
   "outputs": [],
   "source": [
    "from sklearn.utils import shuffle"
   ]
  },
  {
   "cell_type": "markdown",
   "metadata": {},
   "source": [
    "# 1. Acquire Data\n",
    "Acquire training and testing datasets into **Pandas** DataFrames"
   ]
  },
  {
   "cell_type": "code",
   "execution_count": 6,
   "metadata": {},
   "outputs": [],
   "source": [
    "root = ''\n",
    "train = pd.read_csv(root + 'train_V2.csv')\n",
    "#test = pd.read_csv(root + 'test_V2.csv')\n",
    "train = shuffle(train)\n",
    "\n",
    "train = train.iloc[:3600000]\n",
    "test = train.iloc[3600000:]\n",
    "# test 셋도 나중에는 추가한 feature나 버리는 feature를 다 조정해 주어야 함."
   ]
  },
  {
   "cell_type": "markdown",
   "metadata": {},
   "source": [
    "# 2. Analyze Data\n",
    "\n",
    "### Training data Overview"
   ]
  },
  {
   "cell_type": "code",
   "execution_count": 7,
   "metadata": {},
   "outputs": [],
   "source": [
    "# train.info()"
   ]
  },
  {
   "cell_type": "code",
   "execution_count": 8,
   "metadata": {},
   "outputs": [],
   "source": [
    "# train.describe()"
   ]
  },
  {
   "cell_type": "code",
   "execution_count": 9,
   "metadata": {},
   "outputs": [],
   "source": [
    "# train.describe(include=['O'])"
   ]
  },
  {
   "cell_type": "markdown",
   "metadata": {},
   "source": [
    "<div class=\"alert alert-warning\">\n",
    "<p> - Categorical: Id, groupId, matchId, matchType <br>\n",
    "    - Numerical: assists, boosts, damageDealt, DBNOs, headshotKills, heals, killPlace, killPoinst, kills, killStreaks, longestKill, matchDuration, maxPlace, numGroups, rankPoints, revives, rideDstance, roadKills, swimDistance, teamKills, vehicleDestroys, walkDistance, weaponsAcquired, winPoints<br>\n",
    "    - Target: winPlacePerc<p></div>\n"
   ]
  },
  {
   "cell_type": "markdown",
   "metadata": {},
   "source": [
    "#### Simple Assumptions\n",
    "Features that do not need to be taken into consideration for model training\n",
    "- Id, goupId: These are features that merely describe the identity of the player, and therefore the values will show no correlation with winning\n",
    "- matchId, matchDuration: These are features that merely describe the match, and therefore the values will have no correlation with winning\n",
    "- rankPoints, winPoints, killPoints: These feature have too many missing values"
   ]
  },
  {
   "cell_type": "markdown",
   "metadata": {},
   "source": [
    "## Drop the row with null value\n",
    "There exists a row in which the **winplacePerc** column value is NaN.\n",
    "\n",
    "We must drop this row."
   ]
  },
  {
   "cell_type": "code",
   "execution_count": 10,
   "metadata": {},
   "outputs": [
    {
     "data": {
      "text/html": [
       "<div>\n",
       "<style scoped>\n",
       "    .dataframe tbody tr th:only-of-type {\n",
       "        vertical-align: middle;\n",
       "    }\n",
       "\n",
       "    .dataframe tbody tr th {\n",
       "        vertical-align: top;\n",
       "    }\n",
       "\n",
       "    .dataframe thead th {\n",
       "        text-align: right;\n",
       "    }\n",
       "</style>\n",
       "<table border=\"1\" class=\"dataframe\">\n",
       "  <thead>\n",
       "    <tr style=\"text-align: right;\">\n",
       "      <th></th>\n",
       "      <th>Id</th>\n",
       "      <th>groupId</th>\n",
       "      <th>matchId</th>\n",
       "      <th>assists</th>\n",
       "      <th>boosts</th>\n",
       "      <th>damageDealt</th>\n",
       "      <th>DBNOs</th>\n",
       "      <th>headshotKills</th>\n",
       "      <th>heals</th>\n",
       "      <th>killPlace</th>\n",
       "      <th>...</th>\n",
       "      <th>revives</th>\n",
       "      <th>rideDistance</th>\n",
       "      <th>roadKills</th>\n",
       "      <th>swimDistance</th>\n",
       "      <th>teamKills</th>\n",
       "      <th>vehicleDestroys</th>\n",
       "      <th>walkDistance</th>\n",
       "      <th>weaponsAcquired</th>\n",
       "      <th>winPoints</th>\n",
       "      <th>winPlacePerc</th>\n",
       "    </tr>\n",
       "  </thead>\n",
       "  <tbody>\n",
       "    <tr>\n",
       "      <th>2744604</th>\n",
       "      <td>f70c74418bb064</td>\n",
       "      <td>12dfbede33f92b</td>\n",
       "      <td>224a123c53e008</td>\n",
       "      <td>0</td>\n",
       "      <td>0</td>\n",
       "      <td>0.0</td>\n",
       "      <td>0</td>\n",
       "      <td>0</td>\n",
       "      <td>0</td>\n",
       "      <td>1</td>\n",
       "      <td>...</td>\n",
       "      <td>0</td>\n",
       "      <td>0.0</td>\n",
       "      <td>0</td>\n",
       "      <td>0.0</td>\n",
       "      <td>0</td>\n",
       "      <td>0</td>\n",
       "      <td>0.0</td>\n",
       "      <td>0</td>\n",
       "      <td>0</td>\n",
       "      <td>NaN</td>\n",
       "    </tr>\n",
       "  </tbody>\n",
       "</table>\n",
       "<p>1 rows × 29 columns</p>\n",
       "</div>"
      ],
      "text/plain": [
       "                     Id         groupId         matchId  assists  boosts  \\\n",
       "2744604  f70c74418bb064  12dfbede33f92b  224a123c53e008        0       0   \n",
       "\n",
       "         damageDealt  DBNOs  headshotKills  heals  killPlace      ...       \\\n",
       "2744604          0.0      0              0      0          1      ...        \n",
       "\n",
       "         revives  rideDistance  roadKills  swimDistance  teamKills  \\\n",
       "2744604        0           0.0          0           0.0          0   \n",
       "\n",
       "        vehicleDestroys  walkDistance  weaponsAcquired  winPoints  \\\n",
       "2744604               0           0.0                0          0   \n",
       "\n",
       "         winPlacePerc  \n",
       "2744604           NaN  \n",
       "\n",
       "[1 rows x 29 columns]"
      ]
     },
     "execution_count": 10,
     "metadata": {},
     "output_type": "execute_result"
    }
   ],
   "source": [
    "# Check row with NaN value\n",
    "train[train['winPlacePerc'].isnull()]"
   ]
  },
  {
   "cell_type": "code",
   "execution_count": 11,
   "metadata": {},
   "outputs": [
    {
     "data": {
      "text/html": [
       "<div>\n",
       "<style scoped>\n",
       "    .dataframe tbody tr th:only-of-type {\n",
       "        vertical-align: middle;\n",
       "    }\n",
       "\n",
       "    .dataframe tbody tr th {\n",
       "        vertical-align: top;\n",
       "    }\n",
       "\n",
       "    .dataframe thead th {\n",
       "        text-align: right;\n",
       "    }\n",
       "</style>\n",
       "<table border=\"1\" class=\"dataframe\">\n",
       "  <thead>\n",
       "    <tr style=\"text-align: right;\">\n",
       "      <th></th>\n",
       "      <th>Id</th>\n",
       "      <th>groupId</th>\n",
       "      <th>matchId</th>\n",
       "      <th>assists</th>\n",
       "      <th>boosts</th>\n",
       "      <th>damageDealt</th>\n",
       "      <th>DBNOs</th>\n",
       "      <th>headshotKills</th>\n",
       "      <th>heals</th>\n",
       "      <th>killPlace</th>\n",
       "      <th>...</th>\n",
       "      <th>revives</th>\n",
       "      <th>rideDistance</th>\n",
       "      <th>roadKills</th>\n",
       "      <th>swimDistance</th>\n",
       "      <th>teamKills</th>\n",
       "      <th>vehicleDestroys</th>\n",
       "      <th>walkDistance</th>\n",
       "      <th>weaponsAcquired</th>\n",
       "      <th>winPoints</th>\n",
       "      <th>winPlacePerc</th>\n",
       "    </tr>\n",
       "  </thead>\n",
       "  <tbody>\n",
       "  </tbody>\n",
       "</table>\n",
       "<p>0 rows × 29 columns</p>\n",
       "</div>"
      ],
      "text/plain": [
       "Empty DataFrame\n",
       "Columns: [Id, groupId, matchId, assists, boosts, damageDealt, DBNOs, headshotKills, heals, killPlace, killPoints, kills, killStreaks, longestKill, matchDuration, matchType, maxPlace, numGroups, rankPoints, revives, rideDistance, roadKills, swimDistance, teamKills, vehicleDestroys, walkDistance, weaponsAcquired, winPoints, winPlacePerc]\n",
       "Index: []\n",
       "\n",
       "[0 rows x 29 columns]"
      ]
     },
     "execution_count": 11,
     "metadata": {},
     "output_type": "execute_result"
    }
   ],
   "source": [
    "# Drop row with NaN 'winPlacePerc' value\n",
    "train.drop(2744604, inplace=True)\n",
    "\n",
    "# The row at index 2744604 will be gone\n",
    "train[train['winPlacePerc'].isnull()]"
   ]
  },
  {
   "cell_type": "markdown",
   "metadata": {},
   "source": [
    "## Analysis by visualizing data\n",
    "Feature Distribution Visualtization\n",
    "\n",
    "To understand the dataset, we will visualize each feature as a histogram. **Histograms** show sample distribution for continuous numerical variables where ranges help identify patterns."
   ]
  },
  {
   "cell_type": "code",
   "execution_count": 12,
   "metadata": {},
   "outputs": [],
   "source": [
    "# plt.hist(train['assists'], bins=50)\n",
    "# plt.title('assists')\n",
    "# plt.show()"
   ]
  },
  {
   "cell_type": "code",
   "execution_count": 13,
   "metadata": {},
   "outputs": [],
   "source": [
    "# 킬 포인트가 몇 이상인 사람들을 잘하는 사람이라고 판단..... 빈스 늘리고 엑스축 자르고 범위별로 다른 특징을 나타내는 거 분석하기\n",
    "# 데이터프레임 별로 뽑기! 최고 성능을 볼드!! "
   ]
  },
  {
   "cell_type": "markdown",
   "metadata": {},
   "source": [
    "# 3. Wrangle Data"
   ]
  },
  {
   "cell_type": "code",
   "execution_count": 14,
   "metadata": {},
   "outputs": [],
   "source": [
    "df_wrangle=train.copy()"
   ]
  },
  {
   "cell_type": "markdown",
   "metadata": {},
   "source": [
    "## Outlier, Anomaly Detection - merge"
   ]
  },
  {
   "cell_type": "code",
   "execution_count": 15,
   "metadata": {},
   "outputs": [
    {
     "data": {
      "text/plain": [
       "(3599999, 32)"
      ]
     },
     "execution_count": 15,
     "metadata": {},
     "output_type": "execute_result"
    }
   ],
   "source": [
    "df_wrangle['totalDistance'] = df_wrangle['rideDistance'] + df_wrangle['walkDistance'] + df_wrangle['swimDistance']\n",
    "\n",
    "# create killsWithoutMoving feature\n",
    "df_wrangle['killsWithoutMoving'] = ((df_wrangle['kills'] > 0) & (df_wrangle['totalDistance'] == 0))\n",
    "df_wrangle.drop('totalDistance',axis=1)\n",
    "\n",
    "#create headshot_rate feature\n",
    "df_wrangle['headshotRate'] = df_wrangle['headshotKills']/df_wrangle['kills']\n",
    "df_wrangle['headshotRate'] = df_wrangle['headshotRate'].fillna(0)\n",
    "\n",
    "#outlier 제거 전\n",
    "df_wrangle.shape"
   ]
  },
  {
   "cell_type": "markdown",
   "metadata": {},
   "source": [
    "### Anomalies in Killing"
   ]
  },
  {
   "cell_type": "code",
   "execution_count": 16,
   "metadata": {},
   "outputs": [
    {
     "data": {
      "text/plain": [
       "(1253, 32)"
      ]
     },
     "metadata": {},
     "output_type": "display_data"
    }
   ],
   "source": [
    "#Kills without movement (움직임 없이 kills 있을때)\n",
    "display(df_wrangle[df_wrangle['killsWithoutMoving']==True].shape)\n",
    "\n",
    "df_wrangle=df_wrangle.drop(df_wrangle[df_wrangle['killsWithoutMoving'] == True].index)\n",
    "df_wrangle=df_wrangle.drop('killsWithoutMoving', axis=1)"
   ]
  },
  {
   "cell_type": "code",
   "execution_count": 17,
   "metadata": {},
   "outputs": [
    {
     "data": {
      "text/plain": [
       "(4, 31)"
      ]
     },
     "metadata": {},
     "output_type": "display_data"
    }
   ],
   "source": [
    "#roadKills (10킬 이상)\n",
    "display(df_wrangle[df_wrangle['roadKills']>10].shape)\n",
    "\n",
    "df_wrangle=df_wrangle.drop(df_wrangle[df_wrangle['roadKills']>=10].index)"
   ]
  },
  {
   "cell_type": "markdown",
   "metadata": {},
   "source": [
    "### Anomalies in Aim"
   ]
  },
  {
   "cell_type": "code",
   "execution_count": 18,
   "metadata": {},
   "outputs": [
    {
     "data": {
      "text/plain": [
       "(84, 31)"
      ]
     },
     "metadata": {},
     "output_type": "display_data"
    },
    {
     "data": {
      "image/png": "[encoded data removed]",
      "text/plain": [
       "<Figure size 864x288 with 1 Axes>"
      ]
     },
     "metadata": {},
     "output_type": "display_data"
    }
   ],
   "source": [
    "#30킬 이상\n",
    "\n",
    "# Plot the distribution of kills\n",
    "plt.figure(figsize=(12,4))\n",
    "sns.countplot(data=df_wrangle, x=df_wrangle['kills']).set_title('Kills')\n",
    "#plt.show()\n",
    "\n",
    "display(df_wrangle[df_wrangle['kills']>=30].shape)\n",
    "\n",
    "df_wrangle=df_wrangle.drop(df_wrangle[df_wrangle['kills']>=30].index)"
   ]
  },
  {
   "cell_type": "code",
   "execution_count": 19,
   "metadata": {},
   "outputs": [
    {
     "data": {
      "image/png": "[encoded data removed]",
      "text/plain": [
       "<Figure size 864x288 with 1 Axes>"
      ]
     },
     "metadata": {},
     "output_type": "display_data"
    }
   ],
   "source": [
    "#100% 헤드샷 (애매해서 안뺌)\n",
    "\n",
    "plt.figure(figsize=(12,4))\n",
    "sns.distplot(df_wrangle['headshotRate'], bins=10)\n",
    "#plt.show()\n",
    "\n",
    "df_wrangle=df_wrangle.drop('headshotRate', axis=1) #안쓸거니까"
   ]
  },
  {
   "cell_type": "code",
   "execution_count": 20,
   "metadata": {},
   "outputs": [
    {
     "data": {
      "text/plain": [
       "(18, 30)"
      ]
     },
     "metadata": {},
     "output_type": "display_data"
    },
    {
     "data": {
      "image/png": "[encoded data removed]",
      "text/plain": [
       "<Figure size 864x288 with 1 Axes>"
      ]
     },
     "metadata": {},
     "output_type": "display_data"
    }
   ],
   "source": [
    "#longestKill (1km보다 더 멀리에서 쏜 경우)\n",
    "\n",
    "plt.figure(figsize=(12,4))\n",
    "sns.distplot(df_wrangle['longestKill'], bins=10)\n",
    "#plt.show()\n",
    "\n",
    "display(df_wrangle[df_wrangle['longestKill']>=1000].shape)\n",
    "\n",
    "df_wrangle=df_wrangle.drop(df_wrangle[df_wrangle['longestKill']>=1000].index)"
   ]
  },
  {
   "cell_type": "markdown",
   "metadata": {},
   "source": [
    "### Anomalies in Distance"
   ]
  },
  {
   "cell_type": "code",
   "execution_count": 21,
   "metadata": {},
   "outputs": [],
   "source": [
    "#df_wrangle[['walkDistance', 'rideDistance', 'swimDistance']].describe()"
   ]
  },
  {
   "cell_type": "code",
   "execution_count": 22,
   "metadata": {},
   "outputs": [
    {
     "data": {
      "text/plain": [
       "(185, 30)"
      ]
     },
     "metadata": {},
     "output_type": "display_data"
    },
    {
     "data": {
      "image/png": "[encoded data removed]",
      "text/plain": [
       "<Figure size 864x288 with 1 Axes>"
      ]
     },
     "metadata": {},
     "output_type": "display_data"
    }
   ],
   "source": [
    "#walkDistance (10km 이상 제거)\n",
    "\n",
    "plt.figure(figsize=(12,4))\n",
    "sns.distplot(df_wrangle['walkDistance'], bins=10)\n",
    "#plt.show()\n",
    "\n",
    "display(df_wrangle[df_wrangle['walkDistance'] >= 10000].shape)\n",
    "\n",
    "df_wrangle=df_wrangle.drop(df_wrangle[df_wrangle['walkDistance']>=10000].index)"
   ]
  },
  {
   "cell_type": "code",
   "execution_count": 23,
   "metadata": {},
   "outputs": [
    {
     "data": {
      "text/plain": [
       "(127, 30)"
      ]
     },
     "metadata": {},
     "output_type": "display_data"
    },
    {
     "data": {
      "image/png": "[encoded data removed]",
      "text/plain": [
       "<Figure size 864x288 with 1 Axes>"
      ]
     },
     "metadata": {},
     "output_type": "display_data"
    }
   ],
   "source": [
    "#rideDistance (20km 이상 제거)\n",
    "\n",
    "plt.figure(figsize=(12,4))\n",
    "sns.distplot(df_wrangle['rideDistance'], bins=10)\n",
    "#plt.show()\n",
    "\n",
    "display(df_wrangle[df_wrangle['rideDistance'] >= 20000].shape)\n",
    "\n",
    "df_wrangle=df_wrangle.drop(df_wrangle[df_wrangle['rideDistance']>=20000].index)"
   ]
  },
  {
   "cell_type": "code",
   "execution_count": 24,
   "metadata": {},
   "outputs": [
    {
     "data": {
      "text/plain": [
       "(10, 30)"
      ]
     },
     "metadata": {},
     "output_type": "display_data"
    },
    {
     "data": {
      "image/png": "[encoded data removed]",
      "text/plain": [
       "<Figure size 864x288 with 1 Axes>"
      ]
     },
     "metadata": {},
     "output_type": "display_data"
    }
   ],
   "source": [
    "#swimDistance (2km 이상 제거)\n",
    "\n",
    "plt.figure(figsize=(12,4))\n",
    "sns.distplot(df_wrangle['swimDistance'], bins=10)\n",
    "#plt.show()\n",
    "\n",
    "display(df_wrangle[df_wrangle['swimDistance'] >= 2000].shape)\n",
    "\n",
    "df_wrangle=df_wrangle.drop(df_wrangle[df_wrangle['swimDistance']>=2000].index) "
   ]
  },
  {
   "cell_type": "markdown",
   "metadata": {},
   "source": [
    "### Anomalies in supplies"
   ]
  },
  {
   "cell_type": "code",
   "execution_count": 25,
   "metadata": {},
   "outputs": [
    {
     "data": {
      "text/plain": [
       "(15, 30)"
      ]
     },
     "metadata": {},
     "output_type": "display_data"
    },
    {
     "data": {
      "image/png": "[encoded data removed]",
      "text/plain": [
       "<Figure size 864x288 with 1 Axes>"
      ]
     },
     "metadata": {},
     "output_type": "display_data"
    }
   ],
   "source": [
    "#weaponsAcquired (80 이상 제거)\n",
    "\n",
    "plt.figure(figsize=(12,4))\n",
    "sns.distplot(df_wrangle['weaponsAcquired'], bins=100)\n",
    "#plt.show()\n",
    "\n",
    "display(df_wrangle[df_wrangle['weaponsAcquired'] >= 80].shape)\n",
    "\n",
    "df_wrangle=df_wrangle.drop(df_wrangle[df_wrangle['weaponsAcquired']>=80].index)"
   ]
  },
  {
   "cell_type": "code",
   "execution_count": 26,
   "metadata": {},
   "outputs": [
    {
     "data": {
      "text/plain": [
       "(107, 30)"
      ]
     },
     "metadata": {},
     "output_type": "display_data"
    },
    {
     "data": {
      "image/png": "[encoded data removed]",
      "text/plain": [
       "<Figure size 864x288 with 1 Axes>"
      ]
     },
     "metadata": {},
     "output_type": "display_data"
    }
   ],
   "source": [
    "#heals (40개 이상 제거)\n",
    "\n",
    "plt.figure(figsize=(12,4))\n",
    "sns.distplot(df_wrangle['heals'], bins=10)\n",
    "#plt.show()\n",
    "\n",
    "display(df_wrangle[df_wrangle['heals'] >= 40].shape)\n",
    "\n",
    "df_wrangle=df_wrangle.drop(df_wrangle[df_wrangle['heals']>=40].index)"
   ]
  },
  {
   "cell_type": "code",
   "execution_count": 27,
   "metadata": {},
   "outputs": [],
   "source": [
    "#Outlier 제거 후 \n",
    "df_wrangle.shape\n",
    "df_wrangle.drop(columns = ['totalDistance'], inplace=True)"
   ]
  },
  {
   "cell_type": "code",
   "execution_count": 28,
   "metadata": {},
   "outputs": [],
   "source": [
    "#df_wrangle_anomaly = df_wrangle.copy()"
   ]
  },
  {
   "cell_type": "markdown",
   "metadata": {},
   "source": [
    "## Normalize - merge\n",
    "### make 'totalPlayer' column "
   ]
  },
  {
   "cell_type": "code",
   "execution_count": 29,
   "metadata": {},
   "outputs": [
    {
     "data": {
      "text/plain": [
       "Text(0.5,1,'Total Player')"
      ]
     },
     "execution_count": 29,
     "metadata": {},
     "output_type": "execute_result"
    },
    {
     "data": {
      "image/png": "[encoded data removed]",
      "text/plain": [
       "<Figure size 1080x720 with 1 Axes>"
      ]
     },
     "metadata": {},
     "output_type": "display_data"
    }
   ],
   "source": [
    "# count total players in match\n",
    "df_wrangle['totalPlayers'] = df_wrangle.groupby('matchId')['matchId'].transform('count')\n",
    "plt.figure(figsize=(15,10))\n",
    "sns.countplot(df_wrangle[df_wrangle['totalPlayers']>=75]['totalPlayers'])\n",
    "plt.title('Total Player')\n",
    "#plt.show()"
   ]
  },
  {
   "cell_type": "code",
   "execution_count": 30,
   "metadata": {},
   "outputs": [],
   "source": [
    "# Create normalized  val.\n",
    "df_wrangle['killsNorm'] = df_wrangle['kills']*((100-df_wrangle['totalPlayers'])/100 + 1)\n",
    "df_wrangle['matchDurationNorm'] = df_wrangle['matchDuration']*((100-df_wrangle['totalPlayers'])/100 + 1)\n",
    "df_wrangle['damageDealtNorm'] = df_wrangle['damageDealt']*((100-df_wrangle['totalPlayers'])/100 + 1)\n",
    "df_wrangle['maxPlaceNorm'] = df_wrangle['maxPlace']*((100-df_wrangle['totalPlayers'])/100 + 1)\n",
    "df_wrangle['weaponsAcquiredNorm'] = df_wrangle['weaponsAcquired']*((100-df_wrangle['totalPlayers'])/100 + 1)\n",
    "#df_wrangle['healsandboostsNorm'] = df_wrangle['healsandboosts']*((100-df_wrangle['totalPlayers'])/100 + 1)"
   ]
  },
  {
   "cell_type": "code",
   "execution_count": 31,
   "metadata": {
    "scrolled": true
   },
   "outputs": [
    {
     "data": {
      "text/html": [
       "<div>\n",
       "<style scoped>\n",
       "    .dataframe tbody tr th:only-of-type {\n",
       "        vertical-align: middle;\n",
       "    }\n",
       "\n",
       "    .dataframe tbody tr th {\n",
       "        vertical-align: top;\n",
       "    }\n",
       "\n",
       "    .dataframe thead th {\n",
       "        text-align: right;\n",
       "    }\n",
       "</style>\n",
       "<table border=\"1\" class=\"dataframe\">\n",
       "  <thead>\n",
       "    <tr style=\"text-align: right;\">\n",
       "      <th></th>\n",
       "      <th>kills</th>\n",
       "      <th>killsNorm</th>\n",
       "      <th>matchDuration</th>\n",
       "      <th>matchDurationNorm</th>\n",
       "      <th>weaponsAcquired</th>\n",
       "      <th>weaponsAcquiredNorm</th>\n",
       "    </tr>\n",
       "  </thead>\n",
       "  <tbody>\n",
       "    <tr>\n",
       "      <th>4372335</th>\n",
       "      <td>6</td>\n",
       "      <td>6.72</td>\n",
       "      <td>1298</td>\n",
       "      <td>1453.76</td>\n",
       "      <td>6</td>\n",
       "      <td>6.72</td>\n",
       "    </tr>\n",
       "    <tr>\n",
       "      <th>2001914</th>\n",
       "      <td>4</td>\n",
       "      <td>4.64</td>\n",
       "      <td>1402</td>\n",
       "      <td>1626.32</td>\n",
       "      <td>4</td>\n",
       "      <td>4.64</td>\n",
       "    </tr>\n",
       "    <tr>\n",
       "      <th>3412553</th>\n",
       "      <td>1</td>\n",
       "      <td>1.17</td>\n",
       "      <td>1331</td>\n",
       "      <td>1557.27</td>\n",
       "      <td>3</td>\n",
       "      <td>3.51</td>\n",
       "    </tr>\n",
       "    <tr>\n",
       "      <th>1378392</th>\n",
       "      <td>1</td>\n",
       "      <td>1.19</td>\n",
       "      <td>1350</td>\n",
       "      <td>1606.50</td>\n",
       "      <td>2</td>\n",
       "      <td>2.38</td>\n",
       "    </tr>\n",
       "    <tr>\n",
       "      <th>4274108</th>\n",
       "      <td>0</td>\n",
       "      <td>0.00</td>\n",
       "      <td>1604</td>\n",
       "      <td>2005.00</td>\n",
       "      <td>4</td>\n",
       "      <td>5.00</td>\n",
       "    </tr>\n",
       "    <tr>\n",
       "      <th>2926296</th>\n",
       "      <td>0</td>\n",
       "      <td>0.00</td>\n",
       "      <td>2059</td>\n",
       "      <td>3150.27</td>\n",
       "      <td>3</td>\n",
       "      <td>4.59</td>\n",
       "    </tr>\n",
       "    <tr>\n",
       "      <th>3865598</th>\n",
       "      <td>0</td>\n",
       "      <td>0.00</td>\n",
       "      <td>1385</td>\n",
       "      <td>1786.65</td>\n",
       "      <td>1</td>\n",
       "      <td>1.29</td>\n",
       "    </tr>\n",
       "    <tr>\n",
       "      <th>1472317</th>\n",
       "      <td>0</td>\n",
       "      <td>0.00</td>\n",
       "      <td>2000</td>\n",
       "      <td>2400.00</td>\n",
       "      <td>4</td>\n",
       "      <td>4.80</td>\n",
       "    </tr>\n",
       "    <tr>\n",
       "      <th>1118647</th>\n",
       "      <td>0</td>\n",
       "      <td>0.00</td>\n",
       "      <td>1225</td>\n",
       "      <td>1555.75</td>\n",
       "      <td>4</td>\n",
       "      <td>5.08</td>\n",
       "    </tr>\n",
       "    <tr>\n",
       "      <th>177370</th>\n",
       "      <td>0</td>\n",
       "      <td>0.00</td>\n",
       "      <td>1803</td>\n",
       "      <td>3353.58</td>\n",
       "      <td>5</td>\n",
       "      <td>9.30</td>\n",
       "    </tr>\n",
       "    <tr>\n",
       "      <th>2358627</th>\n",
       "      <td>4</td>\n",
       "      <td>5.08</td>\n",
       "      <td>1269</td>\n",
       "      <td>1611.63</td>\n",
       "      <td>4</td>\n",
       "      <td>5.08</td>\n",
       "    </tr>\n",
       "  </tbody>\n",
       "</table>\n",
       "</div>"
      ],
      "text/plain": [
       "         kills  killsNorm  matchDuration  matchDurationNorm  weaponsAcquired  \\\n",
       "4372335      6       6.72           1298            1453.76                6   \n",
       "2001914      4       4.64           1402            1626.32                4   \n",
       "3412553      1       1.17           1331            1557.27                3   \n",
       "1378392      1       1.19           1350            1606.50                2   \n",
       "4274108      0       0.00           1604            2005.00                4   \n",
       "2926296      0       0.00           2059            3150.27                3   \n",
       "3865598      0       0.00           1385            1786.65                1   \n",
       "1472317      0       0.00           2000            2400.00                4   \n",
       "1118647      0       0.00           1225            1555.75                4   \n",
       "177370       0       0.00           1803            3353.58                5   \n",
       "2358627      4       5.08           1269            1611.63                4   \n",
       "\n",
       "         weaponsAcquiredNorm  \n",
       "4372335                 6.72  \n",
       "2001914                 4.64  \n",
       "3412553                 3.51  \n",
       "1378392                 2.38  \n",
       "4274108                 5.00  \n",
       "2926296                 4.59  \n",
       "3865598                 1.29  \n",
       "1472317                 4.80  \n",
       "1118647                 5.08  \n",
       "177370                  9.30  \n",
       "2358627                 5.08  "
      ]
     },
     "execution_count": 31,
     "metadata": {},
     "output_type": "execute_result"
    }
   ],
   "source": [
    "# Compare standard features and normalized features\n",
    "to_show = ['kills','killsNorm', 'matchDuration', 'matchDurationNorm', 'weaponsAcquired', 'weaponsAcquiredNorm' ]\n",
    "df_wrangle[to_show][0:11]"
   ]
  },
  {
   "cell_type": "code",
   "execution_count": 32,
   "metadata": {},
   "outputs": [],
   "source": [
    "#df_wrangle_normalize = df_wrangle.copy()"
   ]
  },
  {
   "cell_type": "markdown",
   "metadata": {},
   "source": [
    "## Feature generation\n",
    "domain 이해 결과,heals와 boosts를 합치고 rideDistance, walkDistance, swimDistance를 합친 새로운 feature를 generate하는 것이 적절하다고 판단"
   ]
  },
  {
   "cell_type": "code",
   "execution_count": 33,
   "metadata": {},
   "outputs": [],
   "source": [
    "# # Create new feature healsandboosts\n",
    "df_wrangle['healsandboosts'] = df_wrangle['heals'] + df_wrangle['boosts']\n",
    "# # Create feature totalDistance\n",
    "df_wrangle['totalDistance'] = df_wrangle['rideDistance'] + df_wrangle['walkDistance'] + df_wrangle['swimDistance']\n",
    "df_wrangle = df_wrangle.drop(['rideDistance', 'walkDistance', 'swimDistance', 'heals', 'boosts' ],axis =1)\n",
    "# # Create feature killsWithoutMoving\n",
    "# train['killsWithoutMoving'] = ((train['kills'] > 0) & (train['totalDistance'] == 0))"
   ]
  },
  {
   "cell_type": "markdown",
   "metadata": {},
   "source": [
    "## One hot encoding for matchType\n",
    "**matchType**"
   ]
  },
  {
   "cell_type": "code",
   "execution_count": 34,
   "metadata": {},
   "outputs": [
    {
     "name": "stdout",
     "output_type": "stream",
     "text": [
      "There are 16 different Match types in the dataset.\n"
     ]
    }
   ],
   "source": [
    "print('There are {} different Match types in the dataset.'.format(df_wrangle['matchType'].nunique()))\n",
    "# One hot encode matchType\n",
    "df_wrangle = pd.get_dummies(df_wrangle, columns=['matchType'])\n",
    "train = pd.get_dummies(train, columns=['matchType'])\n",
    "# Take a look at the encoding\n",
    "matchType_encoding = df_wrangle.filter(regex='matchType')\n",
    "matchType_encoding.head()\n",
    "\n",
    "matchType_encoding_train = train.filter(regex='matchType')\n",
    "\n",
    "df_wrangle = pd.concat([df_wrangle, matchType_encoding], axis=1)\n",
    "train = pd.concat([train, matchType_encoding_train], axis=1)"
   ]
  },
  {
   "cell_type": "markdown",
   "metadata": {},
   "source": [
    "## matchID 와 groupID를 categorical type으로 변환, Id drop\n",
    "(Id 종류들을 one hot으로 하는 것은 computationally bad)"
   ]
  },
  {
   "cell_type": "code",
   "execution_count": 35,
   "metadata": {},
   "outputs": [],
   "source": [
    "# Turn groupId and match Id into categorical types\n",
    "df_wrangle['groupId'] = df_wrangle['groupId'].astype('category')\n",
    "df_wrangle['matchId'] = df_wrangle['matchId'].astype('category')\n",
    "\n",
    "train['groupId'] = train['groupId'].astype('category')\n",
    "train['matchId'] = train['matchId'].astype('category')\n",
    "\n",
    "# Get category coding for groupId and matchID\n",
    "df_wrangle['groupId_cat'] = df_wrangle['groupId'].cat.codes\n",
    "df_wrangle['matchId_cat'] = df_wrangle['matchId'].cat.codes\n",
    "\n",
    "train['groupId_cat'] = train['groupId'].cat.codes\n",
    "train['matchId_cat'] = train['matchId'].cat.codes\n",
    "\n",
    "# Get rid of old columns\n",
    "df_wrangle.drop(columns=['groupId', 'matchId'], inplace=True)\n",
    "train.drop(columns=['groupId', 'matchId'], inplace=True)\n",
    "\n",
    "# Lets take a look at our newly created features\n",
    "df_wrangle[['groupId_cat', 'matchId_cat']].head()\n",
    "\n",
    "# Drop Id column, because it probably won't be useful for our Machine Learning algorithm,\n",
    "# because the test set contains different Id's\n",
    "df_wrangle.drop(columns = ['Id'], inplace=True)\n",
    "train.drop(columns = ['Id'], inplace=True)"
   ]
  },
  {
   "cell_type": "markdown",
   "metadata": {},
   "source": [
    "# 4. Model Data"
   ]
  },
  {
   "cell_type": "markdown",
   "metadata": {},
   "source": [
    "## Set metrics(MAE)"
   ]
  },
  {
   "cell_type": "code",
   "execution_count": 36,
   "metadata": {},
   "outputs": [],
   "source": [
    "# Metric used for the PUBG competition (Mean Absolute Error (MAE))\n",
    "from sklearn.metrics import mean_absolute_error\n",
    "from sklearn.linear_model import LinearRegression\n",
    "\n",
    "# Function to print the MAE (Mean Absolute Error) score\n",
    "# This is the metric used by Kaggle in this competition\n",
    "def print_score(m : LinearRegression):\n",
    "    res = ['mae train: ', mean_absolute_error(m.predict(X_train), y_train), \n",
    "           'mae val: ', mean_absolute_error(m.predict(X_valid), y_valid)]\n",
    "    if hasattr(m, 'oob_score_'): res.append(m.oob_score_)\n",
    "    print(res)"
   ]
  },
  {
   "cell_type": "markdown",
   "metadata": {},
   "source": [
    "## XGBoost Model \n",
    "### for train sampling"
   ]
  },
  {
   "cell_type": "markdown",
   "metadata": {},
   "source": [
    "### import the model"
   ]
  },
  {
   "cell_type": "code",
   "execution_count": 37,
   "metadata": {},
   "outputs": [],
   "source": [
    "import xgboost"
   ]
  },
  {
   "cell_type": "code",
   "execution_count": 38,
   "metadata": {},
   "outputs": [],
   "source": [
    "sample = train.iloc[0:100000]\n",
    "original = sample.drop(columns=['winPlacePerc', 'kills','matchDuration','damageDealt','maxPlace','weaponsAcquired'])\n",
    "target = sample['winPlacePerc']"
   ]
  },
  {
   "cell_type": "markdown",
   "metadata": {},
   "source": [
    "### split data for training and validation"
   ]
  },
  {
   "cell_type": "code",
   "execution_count": 39,
   "metadata": {},
   "outputs": [
    {
     "name": "stdout",
     "output_type": "stream",
     "text": [
      "Sample train shape:  (90000, 53) \n",
      "Sample target shape:  (90000,) \n",
      "Sample validation shape:  (10000, 53)\n"
     ]
    },
    {
     "name": "stderr",
     "output_type": "stream",
     "text": [
      "/anaconda/envs/py35/lib/python3.5/site-packages/sklearn/preprocessing/data.py:617: DataConversionWarning: Data with input dtype uint8, int32, int64, float64 were all converted to float64 by StandardScaler.\n",
      "  return self.partial_fit(X, y)\n",
      "/anaconda/envs/py35/lib/python3.5/site-packages/sklearn/base.py:462: DataConversionWarning: Data with input dtype uint8, int32, int64, float64 were all converted to float64 by StandardScaler.\n",
      "  return self.fit(X, **fit_params).transform(X)\n",
      "/anaconda/envs/py35/lib/python3.5/site-packages/ipykernel/__main__.py:19: DataConversionWarning: Data with input dtype uint8, int32, int64, float64 were all converted to float64 by StandardScaler.\n"
     ]
    }
   ],
   "source": [
    "#Standardization\n",
    "from sklearn.preprocessing import StandardScaler\n",
    "sc=StandardScaler()\n",
    "\n",
    "# Function for splitting training and validation data\n",
    "def split_vals(a, n : int): \n",
    "    return a[:n].copy(), a[n:].copy()\n",
    "\n",
    "val_perc = 0.1 # % to use for validation set\n",
    "n_valid = int(val_perc * 100000) \n",
    "n_trn = len(original)-n_valid\n",
    "\n",
    "# Split data\n",
    "raw_train, raw_valid = split_vals(sample, n_trn)\n",
    "X_train, X_valid = split_vals(original, n_trn)\n",
    "y_train, y_valid = split_vals(target, n_trn)\n",
    "\n",
    "X_train=sc.fit_transform(X_train)\n",
    "X_valid=sc.transform(X_valid)\n",
    "\n",
    "# Check dimensions of samples\n",
    "print('Sample train shape: ', X_train.shape, \n",
    "      '\\nSample target shape: ', y_train.shape, \n",
    "      '\\nSample validation shape: ', X_valid.shape)"
   ]
  },
  {
   "cell_type": "code",
   "execution_count": 40,
   "metadata": {},
   "outputs": [],
   "source": [
    "# Train basic model\n",
    "#m1 = LinearRegression()\n",
    "#m1.fit(X_train, y_train)\n",
    "#print_score(m1)"
   ]
  },
  {
   "cell_type": "code",
   "execution_count": 41,
   "metadata": {},
   "outputs": [
    {
     "name": "stdout",
     "output_type": "stream",
     "text": [
      "['mae train: ', 0.0550490599384843, 'mae val: ', 0.06475269047975063]\n"
     ]
    }
   ],
   "source": [
    "# Train basic model\n",
    "m1 = xgboost.XGBRegressor(random_state=42,n_estimators=400, subsample = 0.8, colsample_bytree=1,max_depth=7, learning_rate=0.08)\n",
    "m1.fit(X_train, y_train)\n",
    "print_score(m1)"
   ]
  },
  {
   "cell_type": "markdown",
   "metadata": {},
   "source": [
    "### for df_wrangle sampling"
   ]
  },
  {
   "cell_type": "code",
   "execution_count": 42,
   "metadata": {},
   "outputs": [],
   "source": [
    "## 바꿔야함\n",
    "sample = df_wrangle.iloc[0:100000]\n",
    "# Split sample into training data and target variable\n",
    "original = sample.drop(columns = ['winPlacePerc', 'kills','matchDuration','damageDealt','maxPlace','weaponsAcquired']) #all columns except target\n",
    "target = sample['winPlacePerc'] # Only target variable"
   ]
  },
  {
   "cell_type": "markdown",
   "metadata": {},
   "source": [
    "## Split data for training and validation\n",
    "csv를 pickle, json으로 바꿔서 한다.\n",
    "모델 별로 파일을 나누장\n",
    "데이터로 나눠도 됨..\n",
    "\n",
    "비쥬얼라이젼을 좀 더 이쁘게 해서\n",
    "상관계수 예쁘게 분석\n"
   ]
  },
  {
   "cell_type": "code",
   "execution_count": 43,
   "metadata": {},
   "outputs": [
    {
     "name": "stdout",
     "output_type": "stream",
     "text": [
      "Sample train shape:  (90000, 56) \n",
      "Sample target shape:  (90000,) \n",
      "Sample validation shape:  (10000, 56)\n"
     ]
    },
    {
     "name": "stderr",
     "output_type": "stream",
     "text": [
      "/anaconda/envs/py35/lib/python3.5/site-packages/sklearn/preprocessing/data.py:617: DataConversionWarning: Data with input dtype uint8, int32, int64, float64 were all converted to float64 by StandardScaler.\n",
      "  return self.partial_fit(X, y)\n",
      "/anaconda/envs/py35/lib/python3.5/site-packages/sklearn/base.py:462: DataConversionWarning: Data with input dtype uint8, int32, int64, float64 were all converted to float64 by StandardScaler.\n",
      "  return self.fit(X, **fit_params).transform(X)\n",
      "/anaconda/envs/py35/lib/python3.5/site-packages/ipykernel/__main__.py:8: DataConversionWarning: Data with input dtype uint8, int32, int64, float64 were all converted to float64 by StandardScaler.\n"
     ]
    }
   ],
   "source": [
    "n_trn = len(original)-n_valid\n",
    "\n",
    "# Split data\n",
    "X_train, X_valid = split_vals(original, n_trn)\n",
    "y_train, y_valid = split_vals(target, n_trn)\n",
    "\n",
    "X_train=sc.fit_transform(X_train)\n",
    "X_valid=sc.transform(X_valid)\n",
    "\n",
    "# Check dimensions of samples\n",
    "print('Sample train shape: ', X_train.shape, \n",
    "      '\\nSample target shape: ', y_train.shape, \n",
    "      '\\nSample validation shape: ', X_valid.shape)"
   ]
  },
  {
   "cell_type": "code",
   "execution_count": 44,
   "metadata": {},
   "outputs": [],
   "source": [
    "# Train basic model\n",
    "#m2 = LinearRegression()\n",
    "#m2.fit(X_train, y_train)\n",
    "#print_score(m2)"
   ]
  },
  {
   "cell_type": "code",
   "execution_count": 45,
   "metadata": {
    "scrolled": false
   },
   "outputs": [
    {
     "name": "stdout",
     "output_type": "stream",
     "text": [
      "['mae train: ', 0.049243022895292705, 'mae val: ', 0.05997060938482284]\n"
     ]
    }
   ],
   "source": [
    "# Train basic model\n",
    "m2 = xgboost.XGBRegressor(random_state=42,n_estimators=400, subsample = 0.8, colsample_bytree=1,max_depth=7, learning_rate=0.08)\n",
    "m2.fit(X_train, y_train)\n",
    "print_score(m2)"
   ]
  },
  {
   "cell_type": "markdown",
   "metadata": {},
   "source": [
    "## Feature Importance"
   ]
  },
  {
   "cell_type": "code",
   "execution_count": 46,
   "metadata": {},
   "outputs": [],
   "source": [
    "def xgb_feat_importance(m, df):\n",
    "     return pd.DataFrame({'cols':df.columns, 'imp':m.feature_importances_}).sort_values('imp', ascending=False)"
   ]
  },
  {
   "cell_type": "code",
   "execution_count": 47,
   "metadata": {},
   "outputs": [],
   "source": [
    "## 바꿔야함\n",
    "sample = df_wrangle.iloc[0:100000]\n",
    "# Split sample into training data and target variable\n",
    "original = sample.drop(columns = ['winPlacePerc', 'kills','matchDuration','damageDealt','maxPlace','weaponsAcquired']) #all columns except target\n",
    "target = sample['winPlacePerc'] # Only target variable"
   ]
  },
  {
   "cell_type": "code",
   "execution_count": 48,
   "metadata": {},
   "outputs": [
    {
     "data": {
      "image/png": "[encoded data removed]",
      "text/plain": [
       "<Figure size 1008x432 with 1 Axes>"
      ]
     },
     "metadata": {},
     "output_type": "display_data"
    }
   ],
   "source": [
    "# What are the most predictive features according to our basic random forest model\n",
    "fi = xgb_feat_importance(m2, original); fi[:10]\n",
    "\n",
    "# Plot a feature importance graph for the 20 most important features\n",
    "plot1 = fi[:20].plot('cols', 'imp', figsize=(14,6), legend=False, kind = 'barh', title='Top 20 important features')"
   ]
  },
  {
   "cell_type": "code",
   "execution_count": 49,
   "metadata": {
    "scrolled": true
   },
   "outputs": [
    {
     "name": "stdout",
     "output_type": "stream",
     "text": [
      "Significant features:  23\n"
     ]
    },
    {
     "data": {
      "text/plain": [
       "count            23\n",
       "unique           23\n",
       "top       killPlace\n",
       "freq              1\n",
       "Name: cols, dtype: object"
      ]
     },
     "execution_count": 49,
     "metadata": {},
     "output_type": "execute_result"
    }
   ],
   "source": [
    "# Keep only significant features\n",
    "#to_keep = fi[fi.imp>0.005].cols\n",
    "to_keep = fi[fi.imp>0.005].cols\n",
    "print('Significant features: ', len(to_keep))\n",
    "to_keep.describe()"
   ]
  },
  {
   "cell_type": "code",
   "execution_count": 50,
   "metadata": {},
   "outputs": [
    {
     "data": {
      "text/plain": [
       "3               killPlace\n",
       "21          totalDistance\n",
       "16      matchDurationNorm\n",
       "55            matchId_cat\n",
       "54            groupId_cat\n",
       "7               numGroups\n",
       "18           maxPlaceNorm\n",
       "19    weaponsAcquiredNorm\n",
       "17        damageDealtNorm\n",
       "6             longestKill\n",
       "14           totalPlayers\n",
       "15              killsNorm\n",
       "20         healsandboosts\n",
       "4              killPoints\n",
       "1                   DBNOs\n",
       "8              rankPoints\n",
       "0                 assists\n",
       "13              winPoints\n",
       "2           headshotKills\n",
       "5             killStreaks\n",
       "9                 revives\n",
       "36        matchType_squad\n",
       "37    matchType_squad-fpp\n",
       "Name: cols, dtype: object"
      ]
     },
     "execution_count": 50,
     "metadata": {},
     "output_type": "execute_result"
    }
   ],
   "source": [
    "to_keep"
   ]
  },
  {
   "cell_type": "code",
   "execution_count": 51,
   "metadata": {},
   "outputs": [
    {
     "data": {
      "text/plain": [
       "['killPlace',\n",
       " 'totalDistance',\n",
       " 'matchDurationNorm',\n",
       " 'matchId_cat',\n",
       " 'groupId_cat',\n",
       " 'numGroups',\n",
       " 'maxPlaceNorm',\n",
       " 'weaponsAcquiredNorm',\n",
       " 'damageDealtNorm',\n",
       " 'longestKill',\n",
       " 'totalPlayers',\n",
       " 'killsNorm',\n",
       " 'healsandboosts',\n",
       " 'killPoints',\n",
       " 'DBNOs',\n",
       " 'rankPoints',\n",
       " 'assists',\n",
       " 'winPoints',\n",
       " 'headshotKills',\n",
       " 'killStreaks',\n",
       " 'revives',\n",
       " 'matchType_squad',\n",
       " 'matchType_squad-fpp']"
      ]
     },
     "execution_count": 51,
     "metadata": {},
     "output_type": "execute_result"
    }
   ],
   "source": [
    "list(to_keep)"
   ]
  },
  {
   "cell_type": "code",
   "execution_count": 52,
   "metadata": {},
   "outputs": [],
   "source": [
    "#왜 20개로 했는지 역치 생각해보기"
   ]
  },
  {
   "cell_type": "markdown",
   "metadata": {},
   "source": [
    "## Keep only significant features"
   ]
  },
  {
   "cell_type": "code",
   "execution_count": null,
   "metadata": {},
   "outputs": [],
   "source": []
  },
  {
   "cell_type": "code",
   "execution_count": 53,
   "metadata": {},
   "outputs": [],
   "source": [
    "sample = df_wrangle.iloc[0:100000]\n",
    "# Split sample into training data and target variable\n",
    "original = sample.drop(columns =['winPlacePerc', 'kills','matchDuration','damageDealt','maxPlace','weaponsAcquired']) #all columns except target\n",
    "#to_keep_drop_high_corr = list(set(list(to_keep)) - set(['killStreaks', 'damageDealt','maxPlace','numGroups', 'matchId_cat', 'groupId_cat']))\n",
    "#original = original[to_keep_drop_high_corr]\n",
    "original = original[to_keep]\n",
    "target = sample['winPlacePerc'] # Only target variable"
   ]
  },
  {
   "cell_type": "code",
   "execution_count": 54,
   "metadata": {},
   "outputs": [
    {
     "name": "stdout",
     "output_type": "stream",
     "text": [
      "Sample train shape:  (90000, 25) \n",
      "Sample target shape:  (90000,) \n",
      "Sample validation shape:  (10000, 25)\n"
     ]
    },
    {
     "name": "stderr",
     "output_type": "stream",
     "text": [
      "/anaconda/envs/py35/lib/python3.5/site-packages/sklearn/preprocessing/data.py:617: DataConversionWarning: Data with input dtype uint8, int32, int64, float64 were all converted to float64 by StandardScaler.\n",
      "  return self.partial_fit(X, y)\n",
      "/anaconda/envs/py35/lib/python3.5/site-packages/sklearn/base.py:462: DataConversionWarning: Data with input dtype uint8, int32, int64, float64 were all converted to float64 by StandardScaler.\n",
      "  return self.fit(X, **fit_params).transform(X)\n",
      "/anaconda/envs/py35/lib/python3.5/site-packages/sklearn/preprocessing/data.py:617: DataConversionWarning: Data with input dtype uint8, int32, int64, float64 were all converted to float64 by StandardScaler.\n",
      "  return self.partial_fit(X, y)\n",
      "/anaconda/envs/py35/lib/python3.5/site-packages/sklearn/base.py:462: DataConversionWarning: Data with input dtype uint8, int32, int64, float64 were all converted to float64 by StandardScaler.\n",
      "  return self.fit(X, **fit_params).transform(X)\n"
     ]
    }
   ],
   "source": [
    "n_trn = len(original)-n_valid\n",
    "\n",
    "# Split data\n",
    "raw_train, raw_valid = split_vals(sample, n_trn)\n",
    "X_train, X_valid = split_vals(original, n_trn)\n",
    "y_train, y_valid = split_vals(target, n_trn)\n",
    "\n",
    "X_train=sc.fit_transform(X_train)\n",
    "X_valid=sc.fit_transform(X_valid)\n",
    "\n",
    "original.columns\n",
    "\n",
    "# Check dimensions of data\n",
    "print('Sample train shape: ', X_train.shape, \n",
    "      '\\nSample target shape: ', y_train.shape, \n",
    "      '\\nSample validation shape: ', X_valid.shape)"
   ]
  },
  {
   "cell_type": "code",
   "execution_count": 55,
   "metadata": {},
   "outputs": [
    {
     "name": "stdout",
     "output_type": "stream",
     "text": [
      "['mae train: ', 0.049118266261549526, 'mae val: ', 0.06053355199316978]\n"
     ]
    }
   ],
   "source": [
    "# You should get better results by increasing n_estimators\n",
    "# and by playing around with the parameters\n",
    "m3 = xgboost.XGBRegressor(random_state=42,n_estimators=400, subsample = 0.8, colsample_bytree=1,max_depth=7, learning_rate=0.08)\n",
    "m3.fit(X_train, y_train)\n",
    "print_score(m3)"
   ]
  },
  {
   "cell_type": "code",
   "execution_count": null,
   "metadata": {},
   "outputs": [],
   "source": []
  },
  {
   "cell_type": "code",
   "execution_count": null,
   "metadata": {},
   "outputs": [],
   "source": []
  },
  {
   "cell_type": "code",
   "execution_count": null,
   "metadata": {},
   "outputs": [],
   "source": []
  },
  {
   "cell_type": "code",
   "execution_count": null,
   "metadata": {},
   "outputs": [],
   "source": []
  },
  {
   "cell_type": "code",
   "execution_count": null,
   "metadata": {},
   "outputs": [],
   "source": []
  },
  {
   "cell_type": "code",
   "execution_count": 56,
   "metadata": {},
   "outputs": [],
   "source": [
    "## 바꿔야함\n",
    "sample = train.iloc[0:100000]\n",
    "# Split sample into training data and target variable\n",
    "original = sample.drop(columns = ['winPlacePerc', 'kills','matchDuration','damageDealt','maxPlace','weaponsAcquired']) #all columns except target\n",
    "target = sample['winPlacePerc'] # Only target variable"
   ]
  },
  {
   "cell_type": "code",
   "execution_count": 57,
   "metadata": {},
   "outputs": [
    {
     "data": {
      "image/png": "[encoded data removed]",
      "text/plain": [
       "<Figure size 1008x432 with 1 Axes>"
      ]
     },
     "metadata": {},
     "output_type": "display_data"
    }
   ],
   "source": [
    "# What are the most predictive features according to our basic random forest model\n",
    "fi = xgb_feat_importance(m1, original); fi[:10]\n",
    "\n",
    "# Plot a feature importance graph for the 20 most important features\n",
    "plot1 = fi[:20].plot('cols', 'imp', figsize=(14,6), legend=False, kind = 'barh', title='Top 20 important features')"
   ]
  },
  {
   "cell_type": "code",
   "execution_count": 58,
   "metadata": {},
   "outputs": [
    {
     "name": "stdout",
     "output_type": "stream",
     "text": [
      "Significant features:  16\n"
     ]
    },
    {
     "data": {
      "text/plain": [
       "count            16\n",
       "unique           16\n",
       "top       killPlace\n",
       "freq              1\n",
       "Name: cols, dtype: object"
      ]
     },
     "execution_count": 58,
     "metadata": {},
     "output_type": "execute_result"
    }
   ],
   "source": [
    "# Keep only significant features\n",
    "#to_keep = fi[fi.imp>0.005].cols\n",
    "to_keep = fi[fi.imp>0.015].cols\n",
    "print('Significant features: ', len(to_keep))\n",
    "to_keep.describe()"
   ]
  },
  {
   "cell_type": "code",
   "execution_count": 59,
   "metadata": {},
   "outputs": [],
   "source": [
    "sample = train.iloc[0:100000]\n",
    "# Split sample into training data and target variable\n",
    "original = sample.drop(columns = ['winPlacePerc', 'kills','matchDuration','damageDealt','maxPlace','weaponsAcquired']) #all columns except target\n",
    "to_keep_drop_high_corr = list(set(list(to_keep)) - set(['killStreaks', 'damageDealt','maxPlace','numGroups', 'matchId_cat', 'groupId_cat']))\n",
    "#original = original[to_keep_drop_high_corr]\n",
    "original = original[to_keep]\n",
    "target = sample['winPlacePerc'] # Only target variable"
   ]
  },
  {
   "cell_type": "code",
   "execution_count": 60,
   "metadata": {},
   "outputs": [
    {
     "name": "stdout",
     "output_type": "stream",
     "text": [
      "Sample train shape:  (90000, 16) \n",
      "Sample target shape:  (90000,) \n",
      "Sample validation shape:  (10000, 16)\n"
     ]
    },
    {
     "name": "stderr",
     "output_type": "stream",
     "text": [
      "/anaconda/envs/py35/lib/python3.5/site-packages/sklearn/preprocessing/data.py:617: DataConversionWarning: Data with input dtype int32, int64, float64 were all converted to float64 by StandardScaler.\n",
      "  return self.partial_fit(X, y)\n",
      "/anaconda/envs/py35/lib/python3.5/site-packages/sklearn/base.py:462: DataConversionWarning: Data with input dtype int32, int64, float64 were all converted to float64 by StandardScaler.\n",
      "  return self.fit(X, **fit_params).transform(X)\n",
      "/anaconda/envs/py35/lib/python3.5/site-packages/sklearn/preprocessing/data.py:617: DataConversionWarning: Data with input dtype int32, int64, float64 were all converted to float64 by StandardScaler.\n",
      "  return self.partial_fit(X, y)\n",
      "/anaconda/envs/py35/lib/python3.5/site-packages/sklearn/base.py:462: DataConversionWarning: Data with input dtype int32, int64, float64 were all converted to float64 by StandardScaler.\n",
      "  return self.fit(X, **fit_params).transform(X)\n"
     ]
    }
   ],
   "source": [
    "n_trn = len(original)-n_valid\n",
    "\n",
    "# Split data\n",
    "raw_train, raw_valid = split_vals(sample, n_trn)\n",
    "X_train, X_valid = split_vals(original, n_trn)\n",
    "y_train, y_valid = split_vals(target, n_trn)\n",
    "\n",
    "X_train=sc.fit_transform(X_train)\n",
    "X_valid=sc.fit_transform(X_valid)\n",
    "\n",
    "original.columns\n",
    "\n",
    "# Check dimensions of data\n",
    "print('Sample train shape: ', X_train.shape, \n",
    "      '\\nSample target shape: ', y_train.shape, \n",
    "      '\\nSample validation shape: ', X_valid.shape)"
   ]
  },
  {
   "cell_type": "code",
   "execution_count": 61,
   "metadata": {},
   "outputs": [
    {
     "name": "stdout",
     "output_type": "stream",
     "text": [
      "['mae train: ', 0.05551868650188923, 'mae val: ', 0.06580659156355383]\n"
     ]
    }
   ],
   "source": [
    "# You should get better results by increasing n_estimators\n",
    "# and by playing around with the parameters\n",
    "m4 = xgboost.XGBRegressor(random_state=42,n_estimators=400, subsample = 0.8, colsample_bytree=1,max_depth=7, learning_rate=0.08)\n",
    "m4.fit(X_train, y_train)\n",
    "print_score(m4)"
   ]
  },
  {
   "cell_type": "code",
   "execution_count": null,
   "metadata": {},
   "outputs": [],
   "source": []
  },
  {
   "cell_type": "code",
   "execution_count": 62,
   "metadata": {},
   "outputs": [],
   "source": [
    "## 바꿔야함\n",
    "sample = df_wrangle.iloc[0:100000]\n",
    "# Split sample into training data and target variable\n",
    "original = sample.drop(columns = ['winPlacePerc']) #all columns except target\n",
    "target = sample['winPlacePerc'] # Only target variable"
   ]
  },
  {
   "cell_type": "code",
   "execution_count": 63,
   "metadata": {},
   "outputs": [],
   "source": [
    "original = original.drop(columns = ['killStreaks', 'damageDealt','maxPlace','numGroups', 'matchId_cat', 'groupId_cat'])"
   ]
  },
  {
   "cell_type": "code",
   "execution_count": 64,
   "metadata": {},
   "outputs": [
    {
     "name": "stdout",
     "output_type": "stream",
     "text": [
      "Sample train shape:  (90000, 55) \n",
      "Sample target shape:  (90000,) \n",
      "Sample validation shape:  (10000, 55)\n"
     ]
    },
    {
     "name": "stderr",
     "output_type": "stream",
     "text": [
      "/anaconda/envs/py35/lib/python3.5/site-packages/sklearn/preprocessing/data.py:617: DataConversionWarning: Data with input dtype uint8, int64, float64 were all converted to float64 by StandardScaler.\n",
      "  return self.partial_fit(X, y)\n",
      "/anaconda/envs/py35/lib/python3.5/site-packages/sklearn/base.py:462: DataConversionWarning: Data with input dtype uint8, int64, float64 were all converted to float64 by StandardScaler.\n",
      "  return self.fit(X, **fit_params).transform(X)\n",
      "/anaconda/envs/py35/lib/python3.5/site-packages/ipykernel/__main__.py:5: DataConversionWarning: Data with input dtype uint8, int64, float64 were all converted to float64 by StandardScaler.\n"
     ]
    }
   ],
   "source": [
    "X_train, X_valid = split_vals(original, n_trn)\n",
    "y_train, y_valid = split_vals(target, n_trn)\n",
    "\n",
    "X_train=sc.fit_transform(X_train)\n",
    "X_valid=sc.transform(X_valid)\n",
    "\n",
    "# Check dimensions of samples\n",
    "print('Sample train shape: ', X_train.shape, \n",
    "      '\\nSample target shape: ', y_train.shape, \n",
    "      '\\nSample validation shape: ', X_valid.shape)"
   ]
  },
  {
   "cell_type": "code",
   "execution_count": 65,
   "metadata": {},
   "outputs": [
    {
     "name": "stdout",
     "output_type": "stream",
     "text": [
      "['mae train: ', 0.050219405096807494, 'mae val: ', 0.06087608036241531]\n"
     ]
    }
   ],
   "source": [
    "# Train basic model\n",
    "m5 = xgboost.XGBRegressor(random_state=42,n_estimators=400, subsample = 0.8, colsample_bytree=1,max_depth=7, learning_rate=0.08)\n",
    "m5.fit(X_train, y_train)\n",
    "print_score(m5)"
   ]
  },
  {
   "cell_type": "code",
   "execution_count": null,
   "metadata": {},
   "outputs": [],
   "source": []
  },
  {
   "cell_type": "code",
   "execution_count": 66,
   "metadata": {},
   "outputs": [],
   "source": [
    "## 바꿔야함\n",
    "sample = df_wrangle.iloc[0:100000]\n",
    "# Split sample into training data and target variable\n",
    "original = sample.drop(columns = ['winPlacePerc', 'kills','matchDuration','damageDealt','maxPlace','weaponsAcquired']) #all columns except target\n",
    "target = sample['winPlacePerc'] # Only target variable"
   ]
  },
  {
   "cell_type": "code",
   "execution_count": 67,
   "metadata": {},
   "outputs": [],
   "source": [
    "to_keep_ = ['assists', 'DBNOs', 'killPlace',\n",
    "       'longestKill', 'numGroups', \n",
    "       'killsNorm', 'damageDealtNorm', 'maxPlaceNorm', 'weaponsAcquiredNorm',\n",
    "       'healsandboosts', 'totalDistance']\n",
    "original = original[to_keep_]"
   ]
  },
  {
   "cell_type": "code",
   "execution_count": 68,
   "metadata": {},
   "outputs": [
    {
     "name": "stdout",
     "output_type": "stream",
     "text": [
      "Sample train shape:  (90000, 11) \n",
      "Sample target shape:  (90000,) \n",
      "Sample validation shape:  (10000, 11)\n"
     ]
    },
    {
     "name": "stderr",
     "output_type": "stream",
     "text": [
      "/anaconda/envs/py35/lib/python3.5/site-packages/sklearn/preprocessing/data.py:617: DataConversionWarning: Data with input dtype int64, float64 were all converted to float64 by StandardScaler.\n",
      "  return self.partial_fit(X, y)\n",
      "/anaconda/envs/py35/lib/python3.5/site-packages/sklearn/base.py:462: DataConversionWarning: Data with input dtype int64, float64 were all converted to float64 by StandardScaler.\n",
      "  return self.fit(X, **fit_params).transform(X)\n",
      "/anaconda/envs/py35/lib/python3.5/site-packages/ipykernel/__main__.py:5: DataConversionWarning: Data with input dtype int64, float64 were all converted to float64 by StandardScaler.\n"
     ]
    }
   ],
   "source": [
    "X_train, X_valid = split_vals(original, n_trn)\n",
    "y_train, y_valid = split_vals(target, n_trn)\n",
    "\n",
    "X_train=sc.fit_transform(X_train)\n",
    "X_valid=sc.transform(X_valid)\n",
    "\n",
    "# Check dimensions of samples\n",
    "print('Sample train shape: ', X_train.shape, \n",
    "      '\\nSample target shape: ', y_train.shape, \n",
    "      '\\nSample validation shape: ', X_valid.shape)"
   ]
  },
  {
   "cell_type": "code",
   "execution_count": null,
   "metadata": {},
   "outputs": [],
   "source": [
    "# Train basic model\n",
    "m6 = xgboost.XGBRegressor(random_state=42,n_estimators=400, subsample = 0.8, colsample_bytree=1,max_depth=7, learning_rate=0.08)\n",
    "m6.fit(X_train, y_train)\n",
    "print_score(m6)"
   ]
  },
  {
   "cell_type": "code",
   "execution_count": null,
   "metadata": {},
   "outputs": [],
   "source": []
  },
  {
   "cell_type": "code",
   "execution_count": null,
   "metadata": {},
   "outputs": [],
   "source": []
  },
  {
   "cell_type": "code",
   "execution_count": null,
   "metadata": {},
   "outputs": [],
   "source": []
  },
  {
   "cell_type": "code",
   "execution_count": null,
   "metadata": {},
   "outputs": [],
   "source": []
  },
  {
   "cell_type": "code",
   "execution_count": null,
   "metadata": {},
   "outputs": [],
   "source": []
  },
  {
   "cell_type": "code",
   "execution_count": null,
   "metadata": {},
   "outputs": [],
   "source": [
    "# 백만개로 training , validation split \n",
    "# test에도 "
   ]
  },
  {
   "cell_type": "markdown",
   "metadata": {},
   "source": [
    "## Correlations\n",
    "+ Correlation Heatmap"
   ]
  },
  {
   "cell_type": "code",
   "execution_count": null,
   "metadata": {},
   "outputs": [],
   "source": [
    "# # Correlation heatmap\n",
    "# corr = significant.corr()\n",
    "\n",
    "# # Set up the matplotlib figure\n",
    "# f, ax = plt.subplots(figsize=(11, 9))\n",
    "\n",
    "# # Create heatmap\n",
    "# heatmap = sns.heatmap(corr)"
   ]
  },
  {
   "cell_type": "markdown",
   "metadata": {},
   "source": [
    "## Final Random Forest Model\n",
    "\n",
    "# 모델은 금요일에 정하고 돌리기로 했으므로 우리는 아직 이건 필요 없음"
   ]
  },
  {
   "cell_type": "code",
   "execution_count": null,
   "metadata": {},
   "outputs": [],
   "source": [
    "# # Prepare data\n",
    "# val_perc_full = 0.12 # % to use for validation set\n",
    "# n_valid_full = int(val_perc_full * len(df_wrangle)) \n",
    "# n_trn_full = len(df_wrangle)-n_valid_full\n",
    "# df_full = df_wrangle.drop(columns = ['winPlacePerc']) # all columns except target\\\n",
    "# df_fs = df_full.drop(['killStreaks', 'damageDealt','maxPlace','numGroups', 'matchId_cat', 'groupId_cat'], axis=1)\n",
    "# df_fs.columns\n",
    "\n",
    "# y = df_wrangle['winPlacePerc'] # target variable\n",
    "# df_full = df_full[to_keep] # Keep only relevant features\n",
    "# X_train, X_valid = split_vals(df_full, n_trn_full)\n",
    "# y_train, y_valid = split_vals(y, n_trn_full)\n",
    "\n",
    "# X_train=sc.fit_transform(X_train)\n",
    "# X_valid=sc.transform(X_valid)\n",
    "\n",
    "# # Check dimensions of data\n",
    "# print('Sample train shape: ', X_train.shape, \n",
    "#       '\\nSample target shape: ', y_train.shape, \n",
    "#       '\\nSample validation shape: ', X_valid.shape)"
   ]
  },
  {
   "cell_type": "markdown",
   "metadata": {},
   "source": [
    "***\n",
    "# 그전에 normalize, anomaly를 없애서 validation해야한다. \n",
    "# 여기서부터 없앨 feature고름"
   ]
  },
  {
   "cell_type": "markdown",
   "metadata": {},
   "source": [
    "## dendrogram을 통해 feature간 correltaion을 시각화"
   ]
  },
  {
   "cell_type": "code",
   "execution_count": null,
   "metadata": {},
   "outputs": [],
   "source": [
    "# # Create a Dendrogram to view highly correlated features\n",
    "# import scipy\n",
    "# corr = np.round(scipy.stats.spearmanr(df_keep).correlation, 4)\n",
    "# corr_condensed = hc.distance.squareform(1-corr)\n",
    "# z = hc.linkage(corr_condensed, method='average')\n",
    "# fig = plt.figure(figsize=(14,10))\n",
    "# dendrogram = hc.dendrogram(z, labels=df_keep.columns, orientation='left', leaf_font_size=16)\n",
    "# plt.plot()"
   ]
  },
  {
   "cell_type": "markdown",
   "metadata": {},
   "source": [
    "### kills, killStreaks, damageDealt의 predictive quality를 visualize"
   ]
  },
  {
   "cell_type": "markdown",
   "metadata": {},
   "source": [
    "+ Predictive quality of kills"
   ]
  },
  {
   "cell_type": "code",
   "execution_count": null,
   "metadata": {},
   "outputs": [],
   "source": [
    "# def get_sample(df,n):\n",
    "#     idxs = sorted(np.random.permutation(len(df))[:n])\n",
    "#     return df.iloc[idxs].copy()\n",
    "# # Plot the predictive quality of kills \n",
    "# x_all = get_sample(train, 100000)\n",
    "# ggplot(x_all, aes('kills','winPlacePerc'))+stat_smooth(se=True, colour='red', method='mavg')"
   ]
  },
  {
   "cell_type": "code",
   "execution_count": null,
   "metadata": {},
   "outputs": [],
   "source": [
    "# x_all = get_sample(train, 100000)\n",
    "# ggplot(x_all, aes('killStreaks','winPlacePerc'))+stat_smooth(se=True, colour='red', method='mavg')"
   ]
  },
  {
   "cell_type": "code",
   "execution_count": null,
   "metadata": {
    "scrolled": true
   },
   "outputs": [],
   "source": [
    "# x_all = get_sample(train, 100000)\n",
    "# ggplot(x_all, aes('damageDealt','winPlacePerc'))+stat_smooth(se=True, colour='red', method='mavg')"
   ]
  },
  {
   "cell_type": "markdown",
   "metadata": {},
   "source": [
    "## Correlation기반, domain이해 기반 feature drop\n",
    "\n",
    "#### 1. kills, damageDealt, killStreaks 중 가장 영향력이 높은 feature은 kills 이므로 나머지 feature는 drop\n",
    "#### 2. maxPlace, numGroups 역시 correlation이 높은데, domain을 분석한 결과, 두 feature 모두 불필요하다 판단하여 drop\n",
    "#### 3. domain을 분석한 결과, matchId_cat, groupId_cat 와 같은 feature역시 불필요하다 판단하여 drop\n",
    "\n",
    "1,2,3 모두 validation 진행해봐야할듯..\n",
    "그리고 시간 남을 경우, duo, dolo, squad 나눠서도 실험해보기"
   ]
  },
  {
   "cell_type": "code",
   "execution_count": null,
   "metadata": {},
   "outputs": [],
   "source": [
    "#correlation 비슷한 kills, damageDealt, killStreaks 중에 가장 영향력 높은 feature가 \n",
    "#kills여서 나머지 두개 feature는 drop하기로 하였다.\n",
    "#maxPlace, numGroups, matchType 다 고만고만하고 영향력도 작아서 지운다\n",
    "#시간남을경우 duo, solo, squad로 나눠서 한번 해본다.\n",
    "#train = train.drop(['killStreaks', 'damageDealt', 'maxPlace', 'numGroups', 'Id', 'matchId_cat', 'groupId_cat'], axis=1)\n"
   ]
  },
  {
   "cell_type": "code",
   "execution_count": null,
   "metadata": {},
   "outputs": [],
   "source": [
    "#validation code 추가  - 영향력, corr비교한 결과"
   ]
  },
  {
   "cell_type": "markdown",
   "metadata": {},
   "source": [
    "## Correlation기반, domain이해 기반 feature drop validation\n",
    "\n",
    "#### 1. killStreaks, damageDealt drop 후 validate\n",
    "#### 2. maxPlace, numGroups drop 후 validate\n",
    "#### 3. matchId_cat, groupId_cat drop 후 validate"
   ]
  },
  {
   "cell_type": "code",
   "execution_count": null,
   "metadata": {},
   "outputs": [],
   "source": []
  },
  {
   "cell_type": "markdown",
   "metadata": {},
   "source": [
    "## Feature generation 결과 validation\n",
    "\n",
    "#### 1.healsandboosts generate 후 validate\n",
    "#### 2. totalDistance generate 후 validate"
   ]
  },
  {
   "cell_type": "code",
   "execution_count": null,
   "metadata": {},
   "outputs": [],
   "source": [
    "#validation code 추가 - 직관 엑스지부스트 피쳐샐렉션 부분을 자세히 할거면 모델을 두개정도 더만 한 다섯개 정도,,,,,,,,,,,,,,,, 피셀 하기 전 후 이유 벨리데이션 \n",
    "#보고서는 결과만..코드 부분은 ㄴㄴ\n",
    "#train, df_wrangle, df_fs 가지고 모델 돌려~ 벨리데이션 결과까지만 가져오기\n",
    "#hyper parameter 여러개 해보기이이이"
   ]
  },
  {
   "cell_type": "code",
   "execution_count": null,
   "metadata": {},
   "outputs": [],
   "source": []
  },
  {
   "cell_type": "code",
   "execution_count": null,
   "metadata": {},
   "outputs": [],
   "source": []
  }
 ],
 "metadata": {
  "kernelspec": {
   "display_name": "Python 3",
   "language": "python",
   "name": "python3"
  },
  "language_info": {
   "codemirror_mode": {
    "name": "ipython",
    "version": 3
   },
   "file_extension": ".py",
   "mimetype": "text/x-python",
   "name": "python",
   "nbconvert_exporter": "python",
   "pygments_lexer": "ipython3",
   "version": "3.6.5"
  }
 },
 "nbformat": 4,
 "nbformat_minor": 2
}
